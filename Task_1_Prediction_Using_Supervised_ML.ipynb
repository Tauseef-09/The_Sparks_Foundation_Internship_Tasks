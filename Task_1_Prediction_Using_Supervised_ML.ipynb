{
  "nbformat": 4,
  "nbformat_minor": 0,
  "metadata": {
    "colab": {
      "provenance": [],
      "authorship_tag": "ABX9TyMEGJOlE2XbrJW3RKTtpNuF",
      "include_colab_link": true
    },
    "kernelspec": {
      "name": "python3",
      "display_name": "Python 3"
    },
    "language_info": {
      "name": "python"
    }
  },
  "cells": [
    {
      "cell_type": "markdown",
      "metadata": {
        "id": "view-in-github",
        "colab_type": "text"
      },
      "source": [
        "<a href=\"https://colab.research.google.com/github/Tauseef-09/The_Sparks_Foundation_Internship_Tasks/blob/main/Task_1_Prediction_Using_Supervised_ML.ipynb\" target=\"_parent\"><img src=\"https://colab.research.google.com/assets/colab-badge.svg\" alt=\"Open In Colab\"/></a>"
      ]
    },
    {
      "cell_type": "markdown",
      "source": [
        "# The Sparks Foundation"
      ],
      "metadata": {
        "id": "YbtPR1v5RNQ_"
      }
    },
    {
      "cell_type": "markdown",
      "source": [
        "## GRIP(Graduate Rotational Internship Program) January 2023."
      ],
      "metadata": {
        "id": "hn9aHFgMROsz"
      }
    },
    {
      "cell_type": "markdown",
      "source": [
        "# Name :- Kotekanti Tauseef Taufiq"
      ],
      "metadata": {
        "id": "OuyS5d9HROmq"
      }
    },
    {
      "cell_type": "markdown",
      "source": [
        "##Domain:- Data Science & Business Analytics"
      ],
      "metadata": {
        "id": "nANLuWS8ROjj"
      }
    },
    {
      "cell_type": "markdown",
      "source": [
        "## **Task 1 : Prediction using Supervised ML**"
      ],
      "metadata": {
        "id": "iBAUuivLROfa"
      }
    },
    {
      "cell_type": "markdown",
      "source": [
        "\n",
        "From the given dataset we have to predict the percentage score of the student based on number of hours studied. Here the only feature is the number of hours studied and the target variable is percentage scored."
      ],
      "metadata": {
        "id": "Cd4Q7OScRm1q"
      }
    },
    {
      "cell_type": "markdown",
      "source": [
        "* Dataset: : http://bit.ly/w-data"
      ],
      "metadata": {
        "id": "QMMOK9oW0z52"
      }
    },
    {
      "cell_type": "markdown",
      "source": [
        "---\n",
        "# Table of Content\n",
        "\n",
        "\n",
        "* __Step 1: Importing the Necessary Libraries__\n",
        "    \n",
        "* __Step 2: Data Loading__\n",
        "    \n",
        "* __Step 3: Basic observation of our Dataset__\n",
        "    \n",
        "* __Step 4: Exploring Features of our Dataset__\n",
        "   \n",
        "* __Step 5: Model Implementation__\n",
        "\n",
        "* __Step 6: Conclusion__\n",
        "\n",
        "---"
      ],
      "metadata": {
        "id": "cdL1-07d27ZF"
      }
    },
    {
      "cell_type": "markdown",
      "source": [
        "---\n",
        "## Importing the Necessary Libraries\n",
        "---"
      ],
      "metadata": {
        "id": "h_klNcbrUtRj"
      }
    },
    {
      "cell_type": "code",
      "source": [
        "# importing the necessary libraries for Data Manuplation and Data Visualization.\n",
        "\n",
        "import pandas as pd\n",
        "import numpy as np\n",
        "import matplotlib.pyplot as plt \n",
        "import seaborn as sns\n",
        "%matplotlib inline\n",
        "\n",
        "# Importing the necessary libraries for model implementation.\n",
        "\n",
        "from sklearn.model_selection import train_test_split\n",
        "from sklearn.linear_model import LinearRegression\n",
        "from sklearn.metrics import mean_absolute_error\n",
        "from sklearn.metrics import r2_score\n",
        "from sklearn.metrics import mean_squared_error\n",
        "\n",
        "# Importing the warnings library to overcome the unnecessary warnings.\n",
        "\n",
        "import warnings\n",
        "warnings.filterwarnings(\"ignore\")"
      ],
      "metadata": {
        "id": "hJVJtybAEg0U"
      },
      "execution_count": 1,
      "outputs": []
    },
    {
      "cell_type": "markdown",
      "source": [
        "---\n",
        "## Data Loading\n",
        "---"
      ],
      "metadata": {
        "id": "wn-MMziQFnLa"
      }
    },
    {
      "cell_type": "code",
      "source": [
        "# Reading the Data \n",
        "my_data = pd.read_csv('http://bit.ly/w-data')"
      ],
      "metadata": {
        "id": "-Ergpnb-FhNV"
      },
      "execution_count": 2,
      "outputs": []
    },
    {
      "cell_type": "markdown",
      "source": [
        "---\n",
        "## Basic observation of our Dataset\n",
        "---"
      ],
      "metadata": {
        "id": "T750SwX2Frsy"
      }
    },
    {
      "cell_type": "code",
      "source": [
        "# Trying to know about the shape of our data set.\n",
        "\n",
        "print(f'The number of observations in our Data set =', my_data.shape[0])\n",
        "print(f'The number of features in our Data set =', my_data.shape[1])\n"
      ],
      "metadata": {
        "colab": {
          "base_uri": "https://localhost:8080/"
        },
        "id": "o0coJlkeEgx9",
        "outputId": "f17a2c08-faee-4e03-c9eb-a5e5c2f6af7d"
      },
      "execution_count": 3,
      "outputs": [
        {
          "output_type": "stream",
          "name": "stdout",
          "text": [
            "The number of observations in our Data set = 25\n",
            "The number of features in our Data set = 2\n"
          ]
        }
      ]
    },
    {
      "cell_type": "code",
      "source": [
        "# Getting a glance of what kinda data present in our data set.\n",
        "\n",
        "my_data.sample(5) \n"
      ],
      "metadata": {
        "colab": {
          "base_uri": "https://localhost:8080/",
          "height": 206
        },
        "id": "DreiJ1X3EgvS",
        "outputId": "4c098e47-3533-40e8-9c53-8bc6d20fbd47"
      },
      "execution_count": 4,
      "outputs": [
        {
          "output_type": "execute_result",
          "data": {
            "text/plain": [
              "    Hours  Scores\n",
              "24    7.8      86\n",
              "7     5.5      60\n",
              "21    4.8      54\n",
              "9     2.7      25\n",
              "6     9.2      88"
            ],
            "text/html": [
              "\n",
              "  <div id=\"df-5ce0c704-7b62-4bf2-82df-9812af41cb81\">\n",
              "    <div class=\"colab-df-container\">\n",
              "      <div>\n",
              "<style scoped>\n",
              "    .dataframe tbody tr th:only-of-type {\n",
              "        vertical-align: middle;\n",
              "    }\n",
              "\n",
              "    .dataframe tbody tr th {\n",
              "        vertical-align: top;\n",
              "    }\n",
              "\n",
              "    .dataframe thead th {\n",
              "        text-align: right;\n",
              "    }\n",
              "</style>\n",
              "<table border=\"1\" class=\"dataframe\">\n",
              "  <thead>\n",
              "    <tr style=\"text-align: right;\">\n",
              "      <th></th>\n",
              "      <th>Hours</th>\n",
              "      <th>Scores</th>\n",
              "    </tr>\n",
              "  </thead>\n",
              "  <tbody>\n",
              "    <tr>\n",
              "      <th>24</th>\n",
              "      <td>7.8</td>\n",
              "      <td>86</td>\n",
              "    </tr>\n",
              "    <tr>\n",
              "      <th>7</th>\n",
              "      <td>5.5</td>\n",
              "      <td>60</td>\n",
              "    </tr>\n",
              "    <tr>\n",
              "      <th>21</th>\n",
              "      <td>4.8</td>\n",
              "      <td>54</td>\n",
              "    </tr>\n",
              "    <tr>\n",
              "      <th>9</th>\n",
              "      <td>2.7</td>\n",
              "      <td>25</td>\n",
              "    </tr>\n",
              "    <tr>\n",
              "      <th>6</th>\n",
              "      <td>9.2</td>\n",
              "      <td>88</td>\n",
              "    </tr>\n",
              "  </tbody>\n",
              "</table>\n",
              "</div>\n",
              "      <button class=\"colab-df-convert\" onclick=\"convertToInteractive('df-5ce0c704-7b62-4bf2-82df-9812af41cb81')\"\n",
              "              title=\"Convert this dataframe to an interactive table.\"\n",
              "              style=\"display:none;\">\n",
              "        \n",
              "  <svg xmlns=\"http://www.w3.org/2000/svg\" height=\"24px\"viewBox=\"0 0 24 24\"\n",
              "       width=\"24px\">\n",
              "    <path d=\"M0 0h24v24H0V0z\" fill=\"none\"/>\n",
              "    <path d=\"M18.56 5.44l.94 2.06.94-2.06 2.06-.94-2.06-.94-.94-2.06-.94 2.06-2.06.94zm-11 1L8.5 8.5l.94-2.06 2.06-.94-2.06-.94L8.5 2.5l-.94 2.06-2.06.94zm10 10l.94 2.06.94-2.06 2.06-.94-2.06-.94-.94-2.06-.94 2.06-2.06.94z\"/><path d=\"M17.41 7.96l-1.37-1.37c-.4-.4-.92-.59-1.43-.59-.52 0-1.04.2-1.43.59L10.3 9.45l-7.72 7.72c-.78.78-.78 2.05 0 2.83L4 21.41c.39.39.9.59 1.41.59.51 0 1.02-.2 1.41-.59l7.78-7.78 2.81-2.81c.8-.78.8-2.07 0-2.86zM5.41 20L4 18.59l7.72-7.72 1.47 1.35L5.41 20z\"/>\n",
              "  </svg>\n",
              "      </button>\n",
              "      \n",
              "  <style>\n",
              "    .colab-df-container {\n",
              "      display:flex;\n",
              "      flex-wrap:wrap;\n",
              "      gap: 12px;\n",
              "    }\n",
              "\n",
              "    .colab-df-convert {\n",
              "      background-color: #E8F0FE;\n",
              "      border: none;\n",
              "      border-radius: 50%;\n",
              "      cursor: pointer;\n",
              "      display: none;\n",
              "      fill: #1967D2;\n",
              "      height: 32px;\n",
              "      padding: 0 0 0 0;\n",
              "      width: 32px;\n",
              "    }\n",
              "\n",
              "    .colab-df-convert:hover {\n",
              "      background-color: #E2EBFA;\n",
              "      box-shadow: 0px 1px 2px rgba(60, 64, 67, 0.3), 0px 1px 3px 1px rgba(60, 64, 67, 0.15);\n",
              "      fill: #174EA6;\n",
              "    }\n",
              "\n",
              "    [theme=dark] .colab-df-convert {\n",
              "      background-color: #3B4455;\n",
              "      fill: #D2E3FC;\n",
              "    }\n",
              "\n",
              "    [theme=dark] .colab-df-convert:hover {\n",
              "      background-color: #434B5C;\n",
              "      box-shadow: 0px 1px 3px 1px rgba(0, 0, 0, 0.15);\n",
              "      filter: drop-shadow(0px 1px 2px rgba(0, 0, 0, 0.3));\n",
              "      fill: #FFFFFF;\n",
              "    }\n",
              "  </style>\n",
              "\n",
              "      <script>\n",
              "        const buttonEl =\n",
              "          document.querySelector('#df-5ce0c704-7b62-4bf2-82df-9812af41cb81 button.colab-df-convert');\n",
              "        buttonEl.style.display =\n",
              "          google.colab.kernel.accessAllowed ? 'block' : 'none';\n",
              "\n",
              "        async function convertToInteractive(key) {\n",
              "          const element = document.querySelector('#df-5ce0c704-7b62-4bf2-82df-9812af41cb81');\n",
              "          const dataTable =\n",
              "            await google.colab.kernel.invokeFunction('convertToInteractive',\n",
              "                                                     [key], {});\n",
              "          if (!dataTable) return;\n",
              "\n",
              "          const docLinkHtml = 'Like what you see? Visit the ' +\n",
              "            '<a target=\"_blank\" href=https://colab.research.google.com/notebooks/data_table.ipynb>data table notebook</a>'\n",
              "            + ' to learn more about interactive tables.';\n",
              "          element.innerHTML = '';\n",
              "          dataTable['output_type'] = 'display_data';\n",
              "          await google.colab.output.renderOutput(dataTable, element);\n",
              "          const docLink = document.createElement('div');\n",
              "          docLink.innerHTML = docLinkHtml;\n",
              "          element.appendChild(docLink);\n",
              "        }\n",
              "      </script>\n",
              "    </div>\n",
              "  </div>\n",
              "  "
            ]
          },
          "metadata": {},
          "execution_count": 4
        }
      ]
    },
    {
      "cell_type": "code",
      "source": [
        "my_data.info()"
      ],
      "metadata": {
        "colab": {
          "base_uri": "https://localhost:8080/"
        },
        "id": "4cdLogWqGs0c",
        "outputId": "fb669b14-5a47-426e-a6c8-4e62d2e283e1"
      },
      "execution_count": 5,
      "outputs": [
        {
          "output_type": "stream",
          "name": "stdout",
          "text": [
            "<class 'pandas.core.frame.DataFrame'>\n",
            "RangeIndex: 25 entries, 0 to 24\n",
            "Data columns (total 2 columns):\n",
            " #   Column  Non-Null Count  Dtype  \n",
            "---  ------  --------------  -----  \n",
            " 0   Hours   25 non-null     float64\n",
            " 1   Scores  25 non-null     int64  \n",
            "dtypes: float64(1), int64(1)\n",
            "memory usage: 528.0 bytes\n"
          ]
        }
      ]
    },
    {
      "cell_type": "code",
      "source": [
        "# Checking for duplicate observations.\n",
        "\n",
        "my_data.duplicated().sum()\n"
      ],
      "metadata": {
        "colab": {
          "base_uri": "https://localhost:8080/"
        },
        "id": "kt_tfMH4GwJz",
        "outputId": "5027f0c3-c190-4d34-867b-935a7b72aa4b"
      },
      "execution_count": 6,
      "outputs": [
        {
          "output_type": "execute_result",
          "data": {
            "text/plain": [
              "0"
            ]
          },
          "metadata": {},
          "execution_count": 6
        }
      ]
    },
    {
      "cell_type": "code",
      "source": [
        "my_data.describe().T"
      ],
      "metadata": {
        "colab": {
          "base_uri": "https://localhost:8080/",
          "height": 112
        },
        "id": "Mr17-B4nG2Hr",
        "outputId": "711b7905-4ce0-4dbb-b4a1-00da3bb7d7fb"
      },
      "execution_count": 7,
      "outputs": [
        {
          "output_type": "execute_result",
          "data": {
            "text/plain": [
              "        count    mean        std   min   25%   50%   75%   max\n",
              "Hours    25.0   5.012   2.525094   1.1   2.7   4.8   7.4   9.2\n",
              "Scores   25.0  51.480  25.286887  17.0  30.0  47.0  75.0  95.0"
            ],
            "text/html": [
              "\n",
              "  <div id=\"df-5d9390fe-cb5a-474e-94f5-dd99dfc11ae8\">\n",
              "    <div class=\"colab-df-container\">\n",
              "      <div>\n",
              "<style scoped>\n",
              "    .dataframe tbody tr th:only-of-type {\n",
              "        vertical-align: middle;\n",
              "    }\n",
              "\n",
              "    .dataframe tbody tr th {\n",
              "        vertical-align: top;\n",
              "    }\n",
              "\n",
              "    .dataframe thead th {\n",
              "        text-align: right;\n",
              "    }\n",
              "</style>\n",
              "<table border=\"1\" class=\"dataframe\">\n",
              "  <thead>\n",
              "    <tr style=\"text-align: right;\">\n",
              "      <th></th>\n",
              "      <th>count</th>\n",
              "      <th>mean</th>\n",
              "      <th>std</th>\n",
              "      <th>min</th>\n",
              "      <th>25%</th>\n",
              "      <th>50%</th>\n",
              "      <th>75%</th>\n",
              "      <th>max</th>\n",
              "    </tr>\n",
              "  </thead>\n",
              "  <tbody>\n",
              "    <tr>\n",
              "      <th>Hours</th>\n",
              "      <td>25.0</td>\n",
              "      <td>5.012</td>\n",
              "      <td>2.525094</td>\n",
              "      <td>1.1</td>\n",
              "      <td>2.7</td>\n",
              "      <td>4.8</td>\n",
              "      <td>7.4</td>\n",
              "      <td>9.2</td>\n",
              "    </tr>\n",
              "    <tr>\n",
              "      <th>Scores</th>\n",
              "      <td>25.0</td>\n",
              "      <td>51.480</td>\n",
              "      <td>25.286887</td>\n",
              "      <td>17.0</td>\n",
              "      <td>30.0</td>\n",
              "      <td>47.0</td>\n",
              "      <td>75.0</td>\n",
              "      <td>95.0</td>\n",
              "    </tr>\n",
              "  </tbody>\n",
              "</table>\n",
              "</div>\n",
              "      <button class=\"colab-df-convert\" onclick=\"convertToInteractive('df-5d9390fe-cb5a-474e-94f5-dd99dfc11ae8')\"\n",
              "              title=\"Convert this dataframe to an interactive table.\"\n",
              "              style=\"display:none;\">\n",
              "        \n",
              "  <svg xmlns=\"http://www.w3.org/2000/svg\" height=\"24px\"viewBox=\"0 0 24 24\"\n",
              "       width=\"24px\">\n",
              "    <path d=\"M0 0h24v24H0V0z\" fill=\"none\"/>\n",
              "    <path d=\"M18.56 5.44l.94 2.06.94-2.06 2.06-.94-2.06-.94-.94-2.06-.94 2.06-2.06.94zm-11 1L8.5 8.5l.94-2.06 2.06-.94-2.06-.94L8.5 2.5l-.94 2.06-2.06.94zm10 10l.94 2.06.94-2.06 2.06-.94-2.06-.94-.94-2.06-.94 2.06-2.06.94z\"/><path d=\"M17.41 7.96l-1.37-1.37c-.4-.4-.92-.59-1.43-.59-.52 0-1.04.2-1.43.59L10.3 9.45l-7.72 7.72c-.78.78-.78 2.05 0 2.83L4 21.41c.39.39.9.59 1.41.59.51 0 1.02-.2 1.41-.59l7.78-7.78 2.81-2.81c.8-.78.8-2.07 0-2.86zM5.41 20L4 18.59l7.72-7.72 1.47 1.35L5.41 20z\"/>\n",
              "  </svg>\n",
              "      </button>\n",
              "      \n",
              "  <style>\n",
              "    .colab-df-container {\n",
              "      display:flex;\n",
              "      flex-wrap:wrap;\n",
              "      gap: 12px;\n",
              "    }\n",
              "\n",
              "    .colab-df-convert {\n",
              "      background-color: #E8F0FE;\n",
              "      border: none;\n",
              "      border-radius: 50%;\n",
              "      cursor: pointer;\n",
              "      display: none;\n",
              "      fill: #1967D2;\n",
              "      height: 32px;\n",
              "      padding: 0 0 0 0;\n",
              "      width: 32px;\n",
              "    }\n",
              "\n",
              "    .colab-df-convert:hover {\n",
              "      background-color: #E2EBFA;\n",
              "      box-shadow: 0px 1px 2px rgba(60, 64, 67, 0.3), 0px 1px 3px 1px rgba(60, 64, 67, 0.15);\n",
              "      fill: #174EA6;\n",
              "    }\n",
              "\n",
              "    [theme=dark] .colab-df-convert {\n",
              "      background-color: #3B4455;\n",
              "      fill: #D2E3FC;\n",
              "    }\n",
              "\n",
              "    [theme=dark] .colab-df-convert:hover {\n",
              "      background-color: #434B5C;\n",
              "      box-shadow: 0px 1px 3px 1px rgba(0, 0, 0, 0.15);\n",
              "      filter: drop-shadow(0px 1px 2px rgba(0, 0, 0, 0.3));\n",
              "      fill: #FFFFFF;\n",
              "    }\n",
              "  </style>\n",
              "\n",
              "      <script>\n",
              "        const buttonEl =\n",
              "          document.querySelector('#df-5d9390fe-cb5a-474e-94f5-dd99dfc11ae8 button.colab-df-convert');\n",
              "        buttonEl.style.display =\n",
              "          google.colab.kernel.accessAllowed ? 'block' : 'none';\n",
              "\n",
              "        async function convertToInteractive(key) {\n",
              "          const element = document.querySelector('#df-5d9390fe-cb5a-474e-94f5-dd99dfc11ae8');\n",
              "          const dataTable =\n",
              "            await google.colab.kernel.invokeFunction('convertToInteractive',\n",
              "                                                     [key], {});\n",
              "          if (!dataTable) return;\n",
              "\n",
              "          const docLinkHtml = 'Like what you see? Visit the ' +\n",
              "            '<a target=\"_blank\" href=https://colab.research.google.com/notebooks/data_table.ipynb>data table notebook</a>'\n",
              "            + ' to learn more about interactive tables.';\n",
              "          element.innerHTML = '';\n",
              "          dataTable['output_type'] = 'display_data';\n",
              "          await google.colab.output.renderOutput(dataTable, element);\n",
              "          const docLink = document.createElement('div');\n",
              "          docLink.innerHTML = docLinkHtml;\n",
              "          element.appendChild(docLink);\n",
              "        }\n",
              "      </script>\n",
              "    </div>\n",
              "  </div>\n",
              "  "
            ]
          },
          "metadata": {},
          "execution_count": 7
        }
      ]
    },
    {
      "cell_type": "markdown",
      "source": [
        "## INFERENCE\n",
        "\n",
        "* 25 observations and 2 features.\n",
        "* Null values are not present in our features.\n",
        "* There are no duplicate observations in our Dataset."
      ],
      "metadata": {
        "id": "1Rl1izrPG7-Z"
      }
    },
    {
      "cell_type": "markdown",
      "source": [
        "---\n",
        "## Exploring Features of our Dataset\n",
        "---"
      ],
      "metadata": {
        "id": "79icGnVBHMB5"
      }
    },
    {
      "cell_type": "code",
      "source": [
        "# Plotting the scatter plot.\n",
        "\n",
        "sns.scatterplot(data = my_data, x = \"Hours\", y=\"Scores\", color = 'red', marker = '*')\n",
        "plt.title('Marks Vs Study Hours',size = 18)\n",
        "plt.ylabel('MARKS PERCENTAGE', size = 13)\n",
        "plt.xlabel('HOURS', size = 13)\n",
        "plt.show()\n"
      ],
      "metadata": {
        "colab": {
          "base_uri": "https://localhost:8080/",
          "height": 302
        },
        "id": "z28OUw8eI7lq",
        "outputId": "afa90953-81c1-4100-a9a0-a1012193354a"
      },
      "execution_count": 8,
      "outputs": [
        {
          "output_type": "display_data",
          "data": {
            "text/plain": [
              "<Figure size 432x288 with 1 Axes>"
            ],
            "image/png": "[encoded data removed]"
          },
          "metadata": {
            "needs_background": "light"
          }
        }
      ]
    },
    {
      "cell_type": "code",
      "source": [
        "# Plotting the regression plot.\n",
        "\n",
        "sns.regplot(x= my_data['Hours'], y= my_data['Scores'], color = 'g', marker = '*')\n",
        "plt.title('REGRESSION LINE OF THE MODEL', size = 18)\n",
        "plt.ylabel('MARKS PERCENTAGE', size = 13)\n",
        "plt.xlabel('HOURS', size = 13)\n",
        "plt.show()\n"
      ],
      "metadata": {
        "colab": {
          "base_uri": "https://localhost:8080/",
          "height": 302
        },
        "id": "n0AZ_1QGJ73z",
        "outputId": "a3017e55-2716-4b19-c57b-3c710ac4688b"
      },
      "execution_count": 9,
      "outputs": [
        {
          "output_type": "display_data",
          "data": {
            "text/plain": [
              "<Figure size 432x288 with 1 Axes>"
            ],
            "image/png": "[encoded data removed]"
          },
          "metadata": {
            "needs_background": "light"
          }
        }
      ]
    },
    {
      "cell_type": "code",
      "source": [
        "# Checking the distribution of our features.\n",
        "\n",
        "col = ['Hours', 'Scores']\n",
        "plt=__import__(\"matplotlib.pyplot\")\n",
        "plt.pyplot.subplots\n",
        "fig, axes = plt.pyplot.subplots(nrows=1, ncols=2, figsize=(24, 5))\n",
        "ax = axes.flatten()\n",
        "i = 0\n",
        "for co in col:\n",
        "\n",
        "  sns.distplot(my_data[co], color = 'r', ax = ax[i])\n",
        "  ax[i].set_title(f'Distribution of {co}')\n",
        "  i += 1\n",
        "\n",
        "sns.despine(fig)\n"
      ],
      "metadata": {
        "colab": {
          "base_uri": "https://localhost:8080/",
          "height": 314
        },
        "id": "-zGTByi7H7Jx",
        "outputId": "13ff1cfd-1737-45be-939a-895ab33240bd"
      },
      "execution_count": 10,
      "outputs": [
        {
          "output_type": "display_data",
          "data": {
            "text/plain": [
              "<Figure size 1728x360 with 2 Axes>"
            ],
            "image/png": "[encoded data removed]"
          },
          "metadata": {
            "needs_background": "light"
          }
        }
      ]
    },
    {
      "cell_type": "code",
      "source": [
        "# Trying the find the correlation of input variable and Target variable\n",
        "\n",
        "corr = my_data.corr()\n",
        "sns.set(rc = {'figure.figsize':(6, 3)})\n",
        "sns.heatmap(corr, annot = True)\n"
      ],
      "metadata": {
        "colab": {
          "base_uri": "https://localhost:8080/",
          "height": 234
        },
        "id": "xcB6Z6YIMkcq",
        "outputId": "b39759d7-1605-4702-f63f-5c4291953979"
      },
      "execution_count": 12,
      "outputs": [
        {
          "output_type": "execute_result",
          "data": {
            "text/plain": [
              "<matplotlib.axes._subplots.AxesSubplot at 0x7f4aad4871c0>"
            ]
          },
          "metadata": {},
          "execution_count": 12
        },
        {
          "output_type": "display_data",
          "data": {
            "text/plain": [
              "<Figure size 432x216 with 2 Axes>"
            ],
            "image/png": "[encoded data removed]"
          },
          "metadata": {}
        }
      ]
    },
    {
      "cell_type": "markdown",
      "source": [
        "## INFERENCE\n",
        "\n",
        "* We can clearly see a linear trend between Input variable and Target variable in scatter plot.\n",
        "\n",
        "* The distribution plot shows similar trend in both variables\n",
        "\n",
        "* The correlation between Hours and Scores variables is 0.98 which is very high and very suitable to implement Linear Regression Model.\n",
        "\n"
      ],
      "metadata": {
        "id": "h1EODuIrUQVg"
      }
    },
    {
      "cell_type": "markdown",
      "source": [
        "---\n",
        "## Model Implementation\n",
        "---"
      ],
      "metadata": {
        "id": "0KAz4U-fNr7M"
      }
    },
    {
      "cell_type": "code",
      "source": [
        "X_train, X_test, y_train, y_test = train_test_split(my_data.iloc[:, :-1].values, my_data.iloc[:, 1].values, test_size = 0.3, random_state = 42)"
      ],
      "metadata": {
        "id": "TQIja66LMqyM"
      },
      "execution_count": 13,
      "outputs": []
    },
    {
      "cell_type": "code",
      "source": [
        "# Fitting the model.\n",
        "\n",
        "reg = LinearRegression().fit(X_train, y_train)\n",
        "\n",
        "# Predicting the values for train and test data.\n",
        "y_train_pred = reg.predict(X_train)\n",
        "y_test_pred = reg.predict(X_test)\n",
        "\n",
        "# Mean Absolute Error of Training and Testing Data.\n",
        "LR_Train_MAE = mean_absolute_error(y_train, y_train_pred)\n",
        "print(\"Train Data MAE :\" , LR_Train_MAE)\n",
        "LR_Test_MAE = mean_absolute_error(y_test, y_test_pred)\n",
        "print(\"Test Data MAE :\" , LR_Test_MAE)\n",
        "\n",
        "# Mean Squared Error of Training and Testing Data.\n",
        "LR_Train_MSE = mean_squared_error((y_train), (y_train_pred))\n",
        "print(\"Train Data MSE :\" , LR_Train_MSE)\n",
        "LR_Test_MSE = mean_squared_error((y_test), (y_test_pred))\n",
        "print(\"Test Data MSE :\" , LR_Test_MSE)\n",
        "\n",
        "# Root Mean Squared error of Training and Testing Data.\n",
        "LR_Train_RMSE = np.sqrt(mean_squared_error((y_train), (y_train_pred)))\n",
        "print(\"Train Data RMSE:\" , LR_Train_RMSE)\n",
        "LR_Test_RMSE = np.sqrt(mean_squared_error((y_test), (y_test_pred)))\n",
        "print(\"Test Data RMSE:\" , LR_Test_RMSE)\n",
        "\n",
        "# Coefficient of determination of Training and Testing Data.\n",
        "LR_Train_R2 = r2_score((y_train), (y_train_pred))\n",
        "print(\"Train R2 :\" , LR_Train_R2)\n",
        "LR_Test_R2 = r2_score((y_test), (y_test_pred))\n",
        "print(\"Test R2 :\" , LR_Test_R2)\n",
        "\n",
        "# Adjusted R2 of Training and Testing Data.\n",
        "LR_Adjusted_R2 = 1-(1-r2_score((y_test), (y_test_pred)))*((X_test.shape[0]-1)/(X_test.shape[0]-X_test.shape[1]-1))\n",
        "print(\"Adjusted R2 : \", LR_Adjusted_R2)\n"
      ],
      "metadata": {
        "colab": {
          "base_uri": "https://localhost:8080/"
        },
        "id": "FvX02Z5BOE1A",
        "outputId": "46102395-d265-4393-e0dd-28b65f572192"
      },
      "execution_count": 14,
      "outputs": [
        {
          "output_type": "stream",
          "name": "stdout",
          "text": [
            "Train Data MAE : 5.1708315630914194\n",
            "Test Data MAE : 4.499999999999998\n",
            "Train Data MSE : 31.398307995353253\n",
            "Test Data MSE : 23.61945761415174\n",
            "Train Data RMSE: 5.603419312826166\n",
            "Test Data RMSE: 4.859985351228103\n",
            "Train R2 : 0.9536486503889446\n",
            "Test R2 : 0.9487647340257012\n",
            "Adjusted R2 :  0.9402255230299846\n"
          ]
        }
      ]
    },
    {
      "cell_type": "markdown",
      "source": [
        "---\n",
        "## Conclusion\n",
        "---"
      ],
      "metadata": {
        "id": "rqMPO9zXTJkC"
      }
    },
    {
      "cell_type": "code",
      "source": [
        "from prettytable import PrettyTable\n",
        "\n",
        "print('**** SIMPLE LINEAR REGRESSION MODEL ****')\n",
        "table = PrettyTable(['Model', 'MAE', 'MSE', 'RMSE', 'R2 Score', 'Adjusted R2 Score'])\n",
        "table.add_row(['Linear regression Train Data', LR_Train_MAE, LR_Train_MSE, LR_Train_RMSE, LR_Train_R2, '---'])\n",
        "table.add_row(['Linear regression Test Data', LR_Test_MAE, LR_Test_MSE, LR_Test_RMSE, LR_Test_R2, LR_Adjusted_R2])\n",
        "print(table)\n"
      ],
      "metadata": {
        "colab": {
          "base_uri": "https://localhost:8080/"
        },
        "id": "InWlZMInQFOy",
        "outputId": "f1c983fa-d234-46e1-a9fe-34a9f3cee1f2"
      },
      "execution_count": 15,
      "outputs": [
        {
          "output_type": "stream",
          "name": "stdout",
          "text": [
            "**** SIMPLE LINEAR REGRESSION MODEL ****\n",
            "+------------------------------+--------------------+--------------------+-------------------+--------------------+--------------------+\n",
            "|            Model             |        MAE         |        MSE         |        RMSE       |      R2 Score      | Adjusted R2 Score  |\n",
            "+------------------------------+--------------------+--------------------+-------------------+--------------------+--------------------+\n",
            "| Linear regression Train Data | 5.1708315630914194 | 31.398307995353253 | 5.603419312826166 | 0.9536486503889446 |        ---         |\n",
            "| Linear regression Test Data  | 4.499999999999998  | 23.61945761415174  | 4.859985351228103 | 0.9487647340257012 | 0.9402255230299846 |\n",
            "+------------------------------+--------------------+--------------------+-------------------+--------------------+--------------------+\n"
          ]
        }
      ]
    },
    {
      "cell_type": "code",
      "source": [
        "# Predicting the value of percentage for 9.25 hours of study.\n",
        "\n",
        "hours = np.array([9.25])\n",
        "hours = hours.reshape(1, -1)\n",
        "answer = reg.predict(hours)\n",
        "print(\"Marks Percentage = {}\".format(round(answer[0],2)))\n"
      ],
      "metadata": {
        "colab": {
          "base_uri": "https://localhost:8080/"
        },
        "id": "IT_HLo_TPrNU",
        "outputId": "534d721b-4d50-415e-9d07-39afee7283e0"
      },
      "execution_count": 16,
      "outputs": [
        {
          "output_type": "stream",
          "name": "stdout",
          "text": [
            "Marks Percentage = 92.62\n"
          ]
        }
      ]
    },
    {
      "cell_type": "markdown",
      "source": [
        "According to the regression model if a student studies for 9.25 hours a day he/she is likely to score 92.62 marks.\n",
        "\n",
        "---\n",
        "---"
      ],
      "metadata": {
        "id": "FYolYRFwTP12"
      }
    }
  ]
}